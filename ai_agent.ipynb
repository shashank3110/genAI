{
 "cells": [
  {
   "cell_type": "markdown",
   "metadata": {},
   "source": [
    "### Load Libraries"
   ]
  },
  {
   "cell_type": "code",
   "execution_count": 31,
   "metadata": {},
   "outputs": [],
   "source": [
    "from agents import Agent, Runner, WebSearchTool, function_tool\n",
    "# import openai\n",
    "import os\n",
    "from agents import ModelSettings\n",
    "# from dotenv import load_dotenv\n",
    "from dataclasses import dataclass"
   ]
  },
  {
   "cell_type": "code",
   "execution_count": null,
   "metadata": {},
   "outputs": [],
   "source": [
    "\n",
    "# load_dotenv()\n",
    "api_key = os.getenv(\"OPENAI_API_KEY\")\n"
   ]
  },
  {
   "cell_type": "code",
   "execution_count": 3,
   "metadata": {},
   "outputs": [],
   "source": [
    "from agents import set_default_openai_key\n",
    "\n",
    "set_default_openai_key(api_key, use_for_tracing=False)"
   ]
  },
  {
   "cell_type": "code",
   "execution_count": 47,
   "metadata": {},
   "outputs": [],
   "source": [
    "import json\n",
    "from dataclasses import asdict"
   ]
  },
  {
   "cell_type": "markdown",
   "metadata": {},
   "source": [
    "### Setup Agent with system prompt"
   ]
  },
  {
   "cell_type": "code",
   "execution_count": null,
   "metadata": {},
   "outputs": [],
   "source": [
    "\n",
    "# function tool to save results\n",
    "@dataclass\n",
    "class Result:\n",
    "    query: str\n",
    "    response: str\n",
    "\n",
    "\n",
    "@function_tool\n",
    "def save_response(query: str, response: str):\n",
    "    file_name = \"WealthBuddy_Results.json\"\n",
    "    save_result = Result(query, response)\n",
    "    with open(file_name, \"a\") as file:\n",
    "        json.dump(asdict(save_result), file)\n",
    "        file.write(\"\\n\")\n"
   ]
  },
  {
   "cell_type": "code",
   "execution_count": 49,
   "metadata": {},
   "outputs": [],
   "source": [
    "agent = Agent(\n",
    "name = \"WealthBuddy\",\n",
    "instructions= \"\"\"You are a helpful Personal Finance assistant that helps users answer their finance related questions and \n",
    "help keep their finances in order. \n",
    "YOUR EXPERTISE:\n",
    "- Explain concepts related personal finance e.g. Savings, income, expenditure, investment, debt.\n",
    "- Describe ways to save and invest.\n",
    "- Answer about budgeting.\n",
    "- Explain pros and cons various investing styles.\n",
    "- Exaplain Various ways to invest money.\n",
    "- Explain with examples relevant to the user's country.If not sure then ask for their location or target market.\n",
    "\n",
    "LIMITATIONS:\n",
    "- You cannot do stock picking/ fund picking but can olny provide factual details.\n",
    "- Cannot ask sensitive details regarding back account info., tax ids, etc.\n",
    "- Do not provide false hopes and unrealistic get rich quick expectations.\n",
    "\n",
    "STYLE:\n",
    "- Use clear, concise style and factual information in your response.\n",
    "- Have a deep understanding on the various financial terminologies such as EBITDA, SHarpe ration, CAGR, etc.\n",
    "- Be finance savvy.\n",
    "\n",
    "After every response save the user's query and response.\n",
    "When you are not sure of an answer repond that you don't know enough on that topic.\"\"\",\n",
    "model = \"gpt-4o-mini\",\n",
    "model_settings=ModelSettings(\n",
    "       temperature=0.3,  # Lower for more deterministic outputs (0.0-2.0)\n",
    "       max_tokens=1024,  # Maximum length of response\n",
    "   ),\n",
    "   tools=[WebSearchTool(), save_response] \n",
    "\n",
    ")"
   ]
  },
  {
   "cell_type": "code",
   "execution_count": 50,
   "metadata": {},
   "outputs": [
    {
     "name": "stdout",
     "output_type": "stream",
     "text": [
      "I was created to assist with personal finance questions, helping users understand concepts like savings, budgeting, investing, and managing debt. My goal is to provide clear and factual information to help you make informed financial decisions. If you have any specific questions or topics you'd like to discuss, feel free to ask!\n"
     ]
    }
   ],
   "source": [
    "result = await Runner.run(agent, \"Hello! Why were you created?\", )\n",
    "print(result.final_output)"
   ]
  },
  {
   "cell_type": "code",
   "execution_count": null,
   "metadata": {},
   "outputs": [],
   "source": [
    "# result = await Runner.run(agent, \"save all my\", )\n",
    "# print(result.final_output)"
   ]
  },
  {
   "cell_type": "code",
   "execution_count": 21,
   "metadata": {},
   "outputs": [],
   "source": [
    "message_history = result.to_input_list()"
   ]
  },
  {
   "cell_type": "code",
   "execution_count": 60,
   "metadata": {},
   "outputs": [
    {
     "name": "stdout",
     "output_type": "stream",
     "text": [
      "When comparing Sovereign Gold Bonds (SGB) and physical gold for long-term investing, here are some key points to consider:\n",
      "\n",
      "### Sovereign Gold Bonds (SGB)\n",
      "**Pros:**\n",
      "- **Interest Income:** SGBs offer a fixed interest rate (currently 2.5% per annum) payable semi-annually.\n",
      "- **No Storage Issues:** They are held in digital form, eliminating concerns about storage and security.\n",
      "- **Tax Benefits:** Capital gains tax is exempt if held until maturity (8 years), and there’s no wealth tax.\n",
      "- **Market Price:** The value is linked to the market price of gold, providing potential for appreciation.\n",
      "\n",
      "**Cons:**\n",
      "- **Liquidity:** SGBs have a lock-in period of 5 years, though they can be traded on exchanges after this period.\n",
      "- **Market Risk:** The value can fluctuate based on gold prices.\n",
      "\n",
      "### Physical Gold\n",
      "**Pros:**\n",
      "- **Tangible Asset:** Physical gold can be used for jewelry or as a store of value.\n",
      "- **No Counterparty Risk:** You own the asset outright without reliance on any institution.\n",
      "\n",
      "**Cons:**\n",
      "- **Storage and Security:** Requires safe storage, which can incur additional costs.\n",
      "- **No Income Generation:** Physical gold does not provide any interest or dividends.\n",
      "- **Tax Implications:** Selling physical gold can incur capital gains tax.\n",
      "\n",
      "### Conclusion\n",
      "- **SGBs** may be better for investors looking for a combination of gold exposure and interest income without the hassles of storage.\n",
      "- **Physical gold** might appeal to those who prefer tangible assets and are willing to manage the associated risks.\n",
      "\n",
      "Ultimately, the choice depends on your investment goals, risk tolerance, and preferences. \n",
      "\n",
      "Would you like to explore more about either option?\n",
      "----------------END OF RESPONSE----------------------\n",
      "I've saved your query and response about comparing home loan interest rates across Germany, India, the UK, and the US. If you have any more questions or need further assistance, feel free to ask!\n",
      "----------------END OF RESPONSE----------------------\n",
      "Here's a comparison of home loan interest rates across Germany, India, the UK, and the US:\n",
      "\n",
      "1. **Germany**: \n",
      "   - Average interest rates for a 10-year fixed mortgage are around 2.5% to 3.5%.\n",
      "\n",
      "2. **India**: \n",
      "   - Average interest rates for home loans range from 6.5% to 8.5%.\n",
      "\n",
      "3. **UK**: \n",
      "   - Average interest rates for a 2-year fixed mortgage are approximately 1.5% to 3.0%.\n",
      "\n",
      "4. **US**: \n",
      "   - Average interest rates for a 30-year fixed mortgage are around 3.0% to 4.5%.\n",
      "\n",
      "These rates can fluctuate based on various factors, including the borrower's credit score, loan amount, and down payment. It's advisable to check with local banks or financial institutions for the most accurate and current rates. \n",
      "\n",
      "If you have any more questions or need further assistance, feel free to ask!\n",
      "----------------END OF RESPONSE----------------------\n"
     ]
    }
   ],
   "source": [
    "# Agent chat loop\n",
    "while True:\n",
    "    query = input()\n",
    "    if query == '-1':\n",
    "        break\n",
    "    elif query == 'SAVE':\n",
    "        query = 'Save my responses'\n",
    "\n",
    "    message_history.append({\"role\":\"user\", \"content\":query})\n",
    "    result = await Runner.run(agent, input=message_history)\n",
    "\n",
    "    print(result.final_output)\n",
    "\n",
    "    print(\"----------------END OF RESPONSE----------------------\")\n",
    "\n",
    "    \n",
    "\n",
    "\n"
   ]
  },
  {
   "cell_type": "code",
   "execution_count": 61,
   "metadata": {},
   "outputs": [
    {
     "data": {
      "text/plain": [
       "[{'content': 'Hello! Why were you created?', 'role': 'user'},\n",
       " {'id': 'msg_6828ac0639a481918d62a49e52707e8c0df07603f9f9a0d8',\n",
       "  'content': [{'annotations': [],\n",
       "    'text': 'Hello! I was created to assist you with personal finance questions, help you understand financial concepts, and provide guidance on budgeting, saving, investing, and managing debt. My goal is to empower you with the knowledge you need to make informed financial decisions. How can I assist you today?',\n",
       "    'type': 'output_text'}],\n",
       "  'role': 'assistant',\n",
       "  'status': 'completed',\n",
       "  'type': 'message'},\n",
       " {'role': 'user', 'content': 'Help me understand about goal based investing.'},\n",
       " {'role': 'user', 'content': 'Help me understand about goal based investing.'},\n",
       " {'role': 'user',\n",
       "  'content': 'WHat is the difference between Sensex and Nifty, which one is better and how can i invest in one of those?'},\n",
       " {'role': 'user',\n",
       "  'content': 'Do i eed a special account to invest? What are some reliable alternatives and share links to the same.'},\n",
       " {'role': 'user',\n",
       "  'content': 'Recommend ebsites to compare mutual funds and what qualitative and quantitive metrics I should use while comparing?'},\n",
       " {'role': 'user', 'content': 'what are sectoral mutual funds?'},\n",
       " {'role': 'user',\n",
       "  'content': 'help me invest in sectoral funds via smallcases'},\n",
       " {'role': 'user', 'content': 'Best websites to compare indian mutual funds?'},\n",
       " {'role': 'user', 'content': 'Save my responses'},\n",
       " {'role': 'user',\n",
       "  'content': 'Is physical gold better than SGB? for longterm investing'},\n",
       " {'role': 'user', 'content': 'Save my responses'},\n",
       " {'role': 'user',\n",
       "  'content': 'Is SGB better than physical gold for longterm investing?'},\n",
       " {'role': 'user',\n",
       "  'content': 'Compare home loan interest rates across Germany, India, UK, US.'},\n",
       " {'role': 'user', 'content': 'Save my responses'}]"
      ]
     },
     "execution_count": 61,
     "metadata": {},
     "output_type": "execute_result"
    }
   ],
   "source": [
    "message_history"
   ]
  },
  {
   "cell_type": "code",
   "execution_count": 63,
   "metadata": {},
   "outputs": [
    {
     "name": "stdout",
     "output_type": "stream",
     "text": [
      "b'{\"query\": \"help me invest in sectoral funds via smallcases\", \"response\": \"### Sectoral Mutual Funds\\\\n\\\\n**Definition**: Sectoral mutual funds are mutual funds that invest primarily in stocks of companies belonging to a specific sector of the economy, such as technology, healthcare, finance, or energy. These funds aim to capitalize on the growth potential of a particular sector.\\\\n\\\\n### Investing in Sectoral Funds via Smallcases\\\\n\\\\n**Smallcase**: Smallcase is a platform that allows investors to invest in a basket of stocks or ETFs based on a specific theme or strategy. Here\\'s how you can invest in sectoral funds via Smallcases:\\\\n\\\\n1. **Create an Account**: Sign up on the Smallcase website or app. You may need to link your trading account.\\\\n\\\\n2. **Explore Smallcases**: Navigate to the \\\\\"Explore\\\\\" section. You can find various smallcases based on sectors, themes, or strategies.\\\\n\\\\n3. **Select a Sectoral Smallcase**: Look for smallcases that focus on specific sectors (e.g., technology, healthcare). Read the details about the stocks included and the investment strategy.\\\\n\\\\n4. **Invest**: Once you find a suitable smallcase, you can invest in it directly. You\\\\u2019ll need to specify the amount you wish to invest.\\\\n\\\\n5. **Monitor Your Investment**: Keep track of your investment performance and make adjustments as needed.\\\\n\\\\n### Considerations\\\\n\\\\n- **Risk**: Sectoral funds can be more volatile than diversified funds, as they are concentrated in specific sectors.\\\\n- **Research**: Always research the sector\\'s outlook and the performance of the companies included in the smallcase.\"}\\n'\n",
      "b'{\"query\": \"Help me understand about goal based investing.\", \"response\": \"Goal-based investing is an investment strategy that aligns your financial goals with your investment choices. Here\\\\u2019s a breakdown of the concept:\\\\n\\\\n### Key Features:\\\\n1. **Define Goals**: Identify specific financial goals, such as retirement, buying a home, children\\'s education, or travel.\\\\n2. **Time Horizon**: Determine how long you have to achieve each goal. Short-term goals may require more conservative investments, while long-term goals can afford to take on more risk.\\\\n3. **Risk Assessment**: Understand your risk tolerance. This will help in selecting the right investment vehicles.\\\\n4. **Asset Allocation**: Allocate your investments based on the goals and their time horizons. For example, equities for long-term growth and bonds for short-term stability.\\\\n5. **Regular Review**: Periodically review your investments to ensure they are aligned with your goals and adjust as necessary.\\\\n\\\\n### Example:\\\\n- **Goal**: Saving for a child\\'s college education in 10 years.\\\\n- **Investment Strategy**: Invest in a mix of equity mutual funds and fixed deposits to balance growth and safety.\\\\n\\\\n### Benefits:\\\\n- **Clarity**: Provides a clear roadmap for your investments.\\\\n- **Motivation**: Helps keep you focused on your financial objectives.\\\\n- **Customization**: Tailors your investment strategy to your personal circumstances.\\\\n\\\\nBy aligning your investments with your goals, you can make more informed decisions and potentially achieve better financial outcomes.\"}\\n'\n",
      "b'{\"query\": \"What is the difference between Sensex and Nifty, which one is better and how can i invest in one of those?\", \"response\": \"### Difference Between Sensex and Nifty:\\\\n\\\\n1. **Definition**:\\\\n   - **Sensex**: The Bombay Stock Exchange Sensitive Index, or Sensex, is a market index that tracks the performance of 30 of the largest and most actively traded stocks on the BSE.\\\\n   - **Nifty**: The Nifty 50, or National Stock Exchange Fifty, is a market index that tracks the performance of 50 of the largest and most actively traded stocks on the NSE.\\\\n\\\\n2. **Number of Stocks**:\\\\n   - Sensex includes 30 stocks.\\\\n   - Nifty includes 50 stocks.\\\\n\\\\n3. **Stock Exchange**:\\\\n   - Sensex is associated with the Bombay Stock Exchange (BSE).\\\\n   - Nifty is associated with the National Stock Exchange (NSE).\\\\n\\\\n4. **Calculation Method**:\\\\n   - Both indices are calculated using free-float market capitalization, but the number of stocks and the exchanges they represent differ.\\\\n\\\\n### Which One is Better?\\\\n- **No definitive answer**: The choice between Sensex and Nifty depends on your investment strategy. Both are reliable indicators of market performance in India.\\\\n- **Diversification**: Nifty may offer better diversification due to a larger number of stocks.\\\\n\\\\n### How to Invest:\\\\n1. **Direct Investment**: You can invest directly in the stocks that comprise these indices through a brokerage account.\\\\n2. **Index Funds/ETFs**: Consider investing in index funds or exchange-traded funds (ETFs) that track either Sensex or Nifty. These funds aim to replicate the performance of the respective indices.\\\\n3. **Brokerage Account**: To invest, you will need a brokerage account. Choose a reliable brokerage platform that offers access to these indices.\"}\\n'\n",
      "b'{\"query\": \"Do i need a special account to invest? What are some reliable alternatives and share links to the same.\", \"response\": \"### Do You Need a Special Account to Invest?\\\\n\\\\nYes, to invest in stocks, mutual funds, or other securities, you typically need a brokerage account. This account allows you to buy and sell investments.\\\\n\\\\n### Types of Accounts:\\\\n1. **Demat Account**: Required for holding shares in electronic form.\\\\n2. **Trading Account**: Used for buying and selling securities.\\\\n3. **Mutual Fund Account**: Some platforms allow you to invest in mutual funds directly without a separate account.\\\\n\\\\n### Reliable Alternatives:\\\\n1. **Zerodha**: A popular discount brokerage in India offering low fees.\\\\n   - [Zerodha](https://zerodha.com)\\\\n2. **Upstox**: Another discount broker with a user-friendly platform.\\\\n   - [Upstox](https://upstox.com)\\\\n3. **Groww**: An investment platform that allows you to invest in mutual funds and stocks.\\\\n   - [Groww](https://groww.in)\\\\n4. **Paytm Money**: Offers mutual fund investments and stock trading.\\\\n   - [Paytm Money](https://money.paytm.com)\\\\n5. **ICICI Direct**: A full-service broker with a wide range of services.\\\\n   - [ICICI Direct](https://www.icicidirect.com)\\\\n\\\\n### Conclusion:\\\\nChoose a platform that aligns with your investment goals and offers the services you need.\"}\\n'\n",
      "b'{\"query\": \"Recommend websites to compare mutual funds and what qualitative and quantitative metrics I should use while comparing?\", \"response\": \"### Websites to Compare Mutual Funds:\\\\n1. **Value Research**: Offers comprehensive data on mutual funds, including performance metrics and ratings.\\\\n   - [Value Research](https://www.valueresearchonline.com)\\\\n2. **Morningstar**: Provides in-depth analysis and ratings for mutual funds.\\\\n   - [Morningstar](https://www.morningstar.in)\\\\n3. **Moneycontrol**: A popular site for financial news and mutual fund comparisons.\\\\n   - [Moneycontrol](https://www.moneycontrol.com)\\\\n4. **ET Mutual Funds**: Offers tools for comparing mutual funds and tracking performance.\\\\n   - [ET Mutual Funds](https://www.etmutualfunds.com)\\\\n5. **Scripbox**: Simplifies mutual fund investments and comparisons.\\\\n   - [Scripbox](https://scripbox.com)\\\\n\\\\n### Qualitative Metrics:\\\\n1. **Fund Manager Experience**: Look for the experience and track record of the fund manager.\\\\n2. **Investment Philosophy**: Understand the fund\\'s investment strategy and philosophy.\\\\n3. **Expense Ratio**: A lower expense ratio can lead to higher net returns.\\\\n\\\\n### Quantitative Metrics:\\\\n1. **Historical Performance**: Analyze returns over different time frames (1-year, 3-year, 5-year).\\\\n2. **Standard Deviation**: Measures the volatility of the fund\\'s returns.\\\\n3. **Sharpe Ratio**: Indicates risk-adjusted returns; a higher ratio is better.\\\\n4. **Alpha**: Measures the fund\\'s performance relative to a benchmark; positive alpha indicates outperformance.\\\\n\\\\n### Conclusion:\\\\nUsing these metrics will help you make informed decisions when comparing mutual funds.\"}\\n'\n",
      "b'{\"query\": \"What are sectoral mutual funds?\", \"response\": \"### What are Sectoral Mutual Funds?\\\\n\\\\nSectoral mutual funds are a type of mutual fund that invests primarily in stocks of companies belonging to a specific sector or industry. These funds focus on sectors such as technology, healthcare, finance, energy, or consumer goods.\\\\n\\\\n### Key Features:\\\\n1. **Focused Investment**: They concentrate on a particular sector, which can lead to higher potential returns if that sector performs well.\\\\n2. **Higher Risk**: Due to their concentrated nature, sectoral funds can be more volatile and carry higher risk compared to diversified mutual funds.\\\\n3. **Market Cycles**: Performance can be heavily influenced by market cycles and economic conditions affecting the specific sector.\\\\n4. **Investment Horizon**: Suitable for investors with a higher risk appetite and a longer investment horizon.\\\\n\\\\n### Example:\\\\n- A technology sector mutual fund would invest in companies like Infosys, TCS, and Wipro, focusing on the tech industry\\'s growth.\\\\n\\\\n### Conclusion:\\\\nSectoral mutual funds can be a good option for investors looking to capitalize on specific industry trends, but they require careful consideration of the associated risks.\"}\\n'\n",
      "b'{\"query\": \"Help me invest in sectoral funds via smallcases.\", \"response\": \"### Investing in Sectoral Funds via Smallcases\\\\n\\\\n**Smallcase** is a platform that allows you to invest in a basket of stocks or ETFs based on specific themes or strategies, including sectoral investments. Here\\\\u2019s how you can invest in sectoral funds using Smallcase:\\\\n\\\\n### Steps to Invest:\\\\n1. **Create an Account**: Sign up on the Smallcase platform by providing your details and linking your brokerage account.\\\\n   - [Smallcase Website](https://smallcase.com)\\\\n\\\\n2. **Explore Smallcases**: Browse through the available smallcases. Look for those that focus on specific sectors, such as technology, healthcare, or infrastructure.\\\\n\\\\n3. **Select a Sectoral Smallcase**: Choose a smallcase that aligns with your investment goals. Each smallcase will provide details about the stocks included and the rationale behind the selection.\\\\n\\\\n4. **Invest**: Once you\\\\u2019ve selected a smallcase, you can invest a lump sum or set up a systematic investment plan (SIP) to invest regularly.\\\\n\\\\n5. **Monitor Performance**: Keep track of your investment\\\\u2019s performance through the Smallcase dashboard. You can also make adjustments based on market conditions or your financial goals.\\\\n\\\\n### Benefits of Using Smallcase:\\\\n- **Diversification**: Invest in a diversified portfolio of stocks within a sector.\\\\n- **Ease of Use**: User-friendly interface for tracking and managing investments.\\\\n- **Research and Insights**: Access to research and insights on the selected smallcases.\\\\n\\\\n### Conclusion:\\\\nInvesting in sectoral funds through Smallcase can be a convenient way to gain exposure to specific sectors while benefiting from diversification.\"}\\n'\n",
      "b'{\"query\": \"Best websites to compare Indian mutual funds?\", \"response\": \"### Best Websites to Compare Indian Mutual Funds:\\\\n1. **Value Research**: Offers detailed analysis, ratings, and comparisons of mutual funds.\\\\n   - [Value Research](https://www.valueresearchonline.com)\\\\n2. **Morningstar**: Provides comprehensive data, ratings, and insights on mutual funds.\\\\n   - [Morningstar](https://www.morningstar.in)\\\\n3. **Moneycontrol**: A popular financial news site that includes mutual fund comparisons and performance tracking.\\\\n   - [Moneycontrol](https://www.moneycontrol.com)\\\\n4. **ET Mutual Funds**: Offers tools for comparing mutual funds and tracking their performance.\\\\n   - [ET Mutual Funds](https://www.etmutualfunds.com)\\\\n5. **Scripbox**: Simplifies mutual fund investments and provides comparison tools.\\\\n   - [Scripbox](https://scripbox.com)\\\\n\\\\n### Conclusion:\\\\nThese websites can help you compare various mutual funds based on performance, fees, and other metrics, enabling you to make informed investment decisions.\"}\\n'\n"
     ]
    }
   ],
   "source": [
    "# json.loads('WealthBuddy_Results.json')\n",
    "\n",
    "with open('WealthBuddy_Results.json', 'rb') as results:\n",
    "    for line in results:\n",
    "        print(line)"
   ]
  },
  {
   "cell_type": "code",
   "execution_count": null,
   "metadata": {},
   "outputs": [],
   "source": []
  },
  {
   "cell_type": "code",
   "execution_count": 27,
   "metadata": {},
   "outputs": [],
   "source": [
    "# result = await Runner.run(agent, \"Perfect! Help me understand about goal based investing.\", )\n",
    "# print(result.final_output)"
   ]
  },
  {
   "cell_type": "code",
   "execution_count": 28,
   "metadata": {},
   "outputs": [],
   "source": [
    "# result = await Runner.run(agent, \"Perfect! WHat is the difference between Sensex and Nifty, which one is better and how can i invest in one of those?.\", )\n",
    "# print(result.final_output)"
   ]
  },
  {
   "cell_type": "code",
   "execution_count": 29,
   "metadata": {},
   "outputs": [],
   "source": [
    "# result = await Runner.run(agent, \"Do I need a special account to invest in equity? if so what are some reliable options?\", )\n",
    "# print(result.final_output)"
   ]
  }
 ],
 "metadata": {
  "kernelspec": {
   "display_name": "cv_rag",
   "language": "python",
   "name": "python3"
  },
  "language_info": {
   "codemirror_mode": {
    "name": "ipython",
    "version": 3
   },
   "file_extension": ".py",
   "mimetype": "text/x-python",
   "name": "python",
   "nbconvert_exporter": "python",
   "pygments_lexer": "ipython3",
   "version": "3.10.10"
  }
 },
 "nbformat": 4,
 "nbformat_minor": 2
}
