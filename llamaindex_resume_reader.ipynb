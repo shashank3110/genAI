{
 "cells": [
  {
   "cell_type": "code",
   "execution_count": 5,
   "id": "436e2777",
   "metadata": {},
   "outputs": [
    {
     "name": "stdout",
     "output_type": "stream",
     "text": [
      "Linkedin_with_experience_Shashank_Salian.pdf\r\n"
     ]
    }
   ],
   "source": [
    "!ls sample_data"
   ]
  },
  {
   "cell_type": "code",
   "execution_count": 24,
   "id": "2ac1d730",
   "metadata": {},
   "outputs": [],
   "source": [
    "import os\n",
    "\n",
    "os.environ[\"OPENAI_API_KEY\"] = \"open_ai_key\""
   ]
  },
  {
   "cell_type": "code",
   "execution_count": 25,
   "id": "bf8c0bd8",
   "metadata": {},
   "outputs": [],
   "source": [
    "from llama_index import TreeIndex, SimpleDirectoryReader\n",
    "\n"
   ]
  },
  {
   "cell_type": "code",
   "execution_count": 26,
   "id": "149db8e2",
   "metadata": {},
   "outputs": [],
   "source": [
    "# pass the data directory name\n",
    "resume = SimpleDirectoryReader(\"sample_data\").load_data()\n",
    "new_index = TreeIndex.from_documents(resume)"
   ]
  },
  {
   "cell_type": "code",
   "execution_count": 59,
   "id": "e1a24632",
   "metadata": {},
   "outputs": [],
   "source": [
    "# dir(new_index)"
   ]
  },
  {
   "cell_type": "code",
   "execution_count": 60,
   "id": "2f11704b",
   "metadata": {},
   "outputs": [],
   "source": [
    "# new_index.service_context"
   ]
  },
  {
   "cell_type": "code",
   "execution_count": 31,
   "id": "8f658d4a",
   "metadata": {},
   "outputs": [
    {
     "name": "stdout",
     "output_type": "stream",
     "text": [
      "The resume belongs to Shashank Salian.\n"
     ]
    }
   ],
   "source": [
    "# querying with llama index (by default it uses GPT-3 text-davinci-003 as the base LLM)\n",
    "query_engine = new_index.as_query_engine()\n",
    "response = query_engine.query(\"Whose resume is this?\")\n",
    "print(response)"
   ]
  },
  {
   "cell_type": "code",
   "execution_count": 32,
   "id": "2cdbbe0b",
   "metadata": {},
   "outputs": [
    {
     "name": "stdout",
     "output_type": "stream",
     "text": [
      "Shashank graduated with a Master's degree in Computer Science from the University of Stuttgart, Germany.\n"
     ]
    }
   ],
   "source": [
    "# text with typos (spell errors)\n",
    "response = query_engine.query(\"When did Shasank garduate?\")\n",
    "print(response)"
   ]
  },
  {
   "cell_type": "code",
   "execution_count": 34,
   "id": "bac0c644",
   "metadata": {},
   "outputs": [
    {
     "name": "stdout",
     "output_type": "stream",
     "text": [
      "Empty Response\n"
     ]
    }
   ],
   "source": [
    "# question with inadequate background from the document/ indexed data\n",
    "response = query_engine.query(\"Is Shashank an Astronaut?\")\n",
    "print(response)"
   ]
  },
  {
   "cell_type": "code",
   "execution_count": 35,
   "id": "db63503c",
   "metadata": {},
   "outputs": [
    {
     "name": "stdout",
     "output_type": "stream",
     "text": [
      "Shashank is working in the field of Data Science.\n"
     ]
    }
   ],
   "source": [
    "# simple context extract\n",
    "response = query_engine.query(\"In what professional field is Shashank working in?\")\n",
    "print(response)"
   ]
  },
  {
   "cell_type": "code",
   "execution_count": 43,
   "id": "c7f0dfe6",
   "metadata": {},
   "outputs": [],
   "source": [
    "# storing context to avoid recreating indexes\n",
    "new_index.storage_context.persist()"
   ]
  },
  {
   "cell_type": "code",
   "execution_count": 53,
   "id": "243db951",
   "metadata": {},
   "outputs": [
    {
     "name": "stdout",
     "output_type": "stream",
     "text": [
      "***** listing contents in storage/ directory *****\r\n",
      "default__vector_store.json image__vector_store.json\r\n",
      "docstore.json              index_store.json\r\n",
      "graph_store.json\r\n"
     ]
    }
   ],
   "source": [
    "# the context is stored in storage/ directory\n",
    "!echo \"***** listing contents in storage/ directory *****\" & ls storage"
   ]
  },
  {
   "cell_type": "code",
   "execution_count": 54,
   "id": "c6692b1e",
   "metadata": {},
   "outputs": [],
   "source": [
    "# load the stored context and create a fresh index\n",
    "from llama_index import StorageContext, load_index_from_storage\n",
    "\n",
    "storage_context = StorageContext.from_defaults(persist_dir=\"./storage\")\n",
    "index2 = load_index_from_storage(storage_context)"
   ]
  },
  {
   "cell_type": "code",
   "execution_count": 58,
   "id": "cabc90de",
   "metadata": {},
   "outputs": [
    {
     "name": "stdout",
     "output_type": "stream",
     "text": [
      "Shashank's qualification is a Master's degree in Computer Science from the University of Stuttgart, Germany. His profession is a Data Scientist at Vodafone, Germany.\n"
     ]
    }
   ],
   "source": [
    "query_engine = index2.as_query_engine()\n",
    "response = query_engine.query(\"What is Shashank's qualification and profession?\")\n",
    "print(response)"
   ]
  },
  {
   "cell_type": "code",
   "execution_count": null,
   "id": "93c42ebf",
   "metadata": {},
   "outputs": [],
   "source": []
  }
 ],
 "metadata": {
  "kernelspec": {
   "display_name": "Python 3 (ipykernel)",
   "language": "python",
   "name": "python3"
  },
  "language_info": {
   "codemirror_mode": {
    "name": "ipython",
    "version": 3
   },
   "file_extension": ".py",
   "mimetype": "text/x-python",
   "name": "python",
   "nbconvert_exporter": "python",
   "pygments_lexer": "ipython3",
   "version": "3.10.10"
  }
 },
 "nbformat": 4,
 "nbformat_minor": 5
}
